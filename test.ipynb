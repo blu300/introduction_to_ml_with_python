{
 "cells": [
  {
   "cell_type": "code",
   "execution_count": 1,
   "metadata": {},
   "outputs": [
    {
     "name": "stdout",
     "output_type": "stream",
     "text": [
      "6\n"
     ]
    }
   ],
   "source": [
    "print(2+4)"
   ]
  },
  {
   "cell_type": "code",
   "execution_count": 29,
   "metadata": {},
   "outputs": [],
   "source": [
    "from sklearn.model_selection import train_test_split\n",
    "import mglearn\n",
    "import numpy as np\n",
    "\n",
    "X, y = mglearn.datasets.make_forge()\n",
    "\n",
    "X_train, X_test, y_train, y_test = train_test_split(X, y, random_state=0)"
   ]
  },
  {
   "cell_type": "code",
   "execution_count": 32,
   "metadata": {},
   "outputs": [
    {
     "name": "stdout",
     "output_type": "stream",
     "text": [
      "(7, 2)\n"
     ]
    },
    {
     "data": {
      "text/plain": [
       "array([11.54155807,  5.21116083, 10.06393839,  0.99078055,  9.49123469,\n",
       "        4.33224792,  8.18378052,  1.29564214,  8.30988863,  4.80623966,\n",
       "       10.24028948,  2.45544401,  8.34468785,  1.63824349,  8.92229526,\n",
       "       -0.63993225,  8.7337095 ,  2.49162431,  9.32298256,  5.09840649,\n",
       "        7.99815287,  4.8525051 , 11.0329545 , -0.16816717,  9.17748385,\n",
       "        5.09283177, 11.563957  ,  1.3389402 ,  9.15072323,  5.49832246,\n",
       "        8.34810316,  5.13415623, 11.93027136,  4.64866327,  8.1062269 ,\n",
       "        4.28695977,  8.67494727,  4.47573059,  9.67284681, -0.20283165,\n",
       "        9.50169345,  1.93824624,  8.69289001,  1.54322016,  9.96346605,\n",
       "        4.59676542,  9.50048972, -0.26430318,  9.25694192,  5.13284858,\n",
       "        8.68937095,  1.48709629])"
      ]
     },
     "execution_count": 32,
     "metadata": {},
     "output_type": "execute_result"
    }
   ],
   "source": [
    "print(X_test.shape)\n",
    "np.append(X_test, X_train)"
   ]
  }
 ],
 "metadata": {
  "interpreter": {
   "hash": "e6c3750d3cc2c8ff2b0ba629b6a1195cf5e19b954ef14cc9e547dc0f7cf65ab0"
  },
  "kernelspec": {
   "display_name": "Python 3.8.5 64-bit (conda)",
   "language": "python",
   "name": "python3"
  },
  "language_info": {
   "codemirror_mode": {
    "name": "ipython",
    "version": 3
   },
   "file_extension": ".py",
   "mimetype": "text/x-python",
   "name": "python",
   "nbconvert_exporter": "python",
   "pygments_lexer": "ipython3",
   "version": "3.8.3"
  },
  "orig_nbformat": 4
 },
 "nbformat": 4,
 "nbformat_minor": 2
}
